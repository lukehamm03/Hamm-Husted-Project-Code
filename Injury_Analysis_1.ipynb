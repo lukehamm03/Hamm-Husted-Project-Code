{
 "cells": [
  {
   "cell_type": "code",
   "execution_count": 2,
   "id": "867117b3-c37f-4b0d-ad86-b6bede93c377",
   "metadata": {},
   "outputs": [],
   "source": [
    "import pandas as pd\n",
    "\n",
    "file_path = r\"C:\\Users\\lukeh\\Downloads\\total_inj_df_1.csv\"\n",
    "data = pd.read_csv(file_path)"
   ]
  },
  {
   "cell_type": "code",
   "execution_count": 4,
   "id": "a6bf2985-72d9-44eb-affa-21e08879a59f",
   "metadata": {},
   "outputs": [],
   "source": [
    "data['injured?'] = data['Injury / Surgery'].apply(\n",
    "    lambda x: 0 if pd.isna(x) or x.strip().lower() == 'na' else 1\n",
    ")\n",
    "\n"
   ]
  },
  {
   "cell_type": "code",
   "execution_count": 6,
   "id": "2c7adb9c-5331-4ada-8283-eef89f785ba9",
   "metadata": {},
   "outputs": [],
   "source": [
    "elbow_injuries = [\n",
    "    \"Tommy John surgery\",\n",
    "    \"Elbow surgery (UCL)\",\n",
    "    \"Elbow surgery\",\n",
    "    \"Elbow surgery (internal brace)\",\n",
    "    \"Elbow surgery (UCL revision)\",\n",
    "    \"Arthroscopic elbow surgery\",\n",
    "    \"Elbow surgery (UCL/flexor tendon repair)\",\n",
    "    \"Elbow surgery (ulnar neuritis)\"\n",
    "]\n",
    "\n",
    "data['elbow?'] = data['Injury / Surgery'].apply(\n",
    "    lambda x: 1 if str(x).strip() in elbow_injuries else 0\n",
    ")\n",
    "\n"
   ]
  },
  {
   "cell_type": "code",
   "execution_count": 8,
   "id": "d7b84bc2-d45c-4744-a95e-b32dda2025e8",
   "metadata": {},
   "outputs": [
    {
     "name": "stdout",
     "output_type": "stream",
     "text": [
      "Number of elbow-related injuries: 134\n"
     ]
    }
   ],
   "source": [
    "elbow_count = data['elbow?'].sum()\n",
    "\n",
    "print(f\"Number of elbow-related injuries: {elbow_count}\")\n"
   ]
  },
  {
   "cell_type": "code",
   "execution_count": 10,
   "id": "919fa7b0-2b2e-4594-a227-d7902b4dd297",
   "metadata": {},
   "outputs": [
    {
     "name": "stdout",
     "output_type": "stream",
     "text": [
      "               Name Team Pos Injury / Surgery Date       Injury / Surgery  \\\n",
      "0     Chase Silseth  LAA  SP   2024-04-07 00:00:00     Elbow inflammation   \n",
      "1      José Cisnero  LAA  RP   2024-04-27 00:00:00  Shoulder inflammation   \n",
      "3       Adam Cimber  LAA  RP   2024-06-14 00:00:00  Shoulder inflammation   \n",
      "4  Patrick Sandoval  LAA  SP   2024-06-26 00:00:00    Elbow surgery (UCL)   \n",
      "6     Carson Fulmer  LAA  SP   2024-08-24 00:00:00     Elbow inflammation   \n",
      "\n",
      "      Status IL Retro Date Eligible to Return Return Date Latest Update  ...  \\\n",
      "0  Activated      04/08/24           06/07/24    06/25/24     Activated  ...   \n",
      "1  Activated      04/28/24           06/27/24    08/17/24     Activated  ...   \n",
      "3  Activated      06/15/24           06/30/24    07/22/24     Activated  ...   \n",
      "4  Activated      06/22/24           08/21/24    09/30/24     Activated  ...   \n",
      "6  Activated      08/27/24           09/11/24    09/30/24     Activated  ...   \n",
      "\n",
      "  n_offspeed_formatted  offspeed_avg_speed  offspeed_avg_spin  \\\n",
      "0                 19.2                85.7             1109.0   \n",
      "1                 13.1                88.6             1456.0   \n",
      "3                  NaN                 NaN                NaN   \n",
      "4                 28.3                82.9             1699.0   \n",
      "6                 27.0                87.8             1413.0   \n",
      "\n",
      "   offspeed_avg_break_x  offspeed_avg_break_z  offspeed_avg_break_z_induced  \\\n",
      "0                  -2.9                 -36.1                           1.3   \n",
      "1                 -14.1                 -34.1                           0.8   \n",
      "3                   NaN                   NaN                           NaN   \n",
      "4                  14.2                 -30.0                           9.9   \n",
      "6                 -14.6                 -32.4                           3.2   \n",
      "\n",
      "   offspeed_avg_break  offspeed_range_speed  injured?  elbow?  \n",
      "0                 4.4                   1.4         1       0  \n",
      "1                14.5                   1.4         1       0  \n",
      "3                 NaN                   NaN         1       0  \n",
      "4                17.5                   1.5         1       1  \n",
      "6                15.2                   1.2         1       0  \n",
      "\n",
      "[5 rows x 48 columns]\n",
      "Number of rows removed: 161\n"
     ]
    }
   ],
   "source": [
    "data_cleaned = data.dropna(subset=['p_game'])\n",
    "\n",
    "print(data_cleaned.head())\n",
    "\n",
    "rows_removed = len(data) - len(data_cleaned)\n",
    "print(f\"Number of rows removed: {rows_removed}\")\n"
   ]
  },
  {
   "cell_type": "code",
   "execution_count": 12,
   "id": "c615e3ee-f5c3-4dbe-bc04-b93b4207b139",
   "metadata": {},
   "outputs": [
    {
     "name": "stdout",
     "output_type": "stream",
     "text": [
      "Number of elbow-related injuries: 73\n"
     ]
    }
   ],
   "source": [
    "elbow_count = data_cleaned['elbow?'].sum()\n",
    "\n",
    "print(f\"Number of elbow-related injuries: {elbow_count}\")\n"
   ]
  },
  {
   "cell_type": "markdown",
   "id": "2d8e33e7-a5cb-45af-8ce6-5409436080f4",
   "metadata": {},
   "source": [
    "# Explanation of Below Code - Injury Risk Calculator Code\r\n",
    "\r\n",
    "### Data Preparatioa.\r\n",
    "- **Feature Selection**: Extracts relevant features (e.g., fastball speed, breaking speed, arm angle).\r\n",
    "- **Handle Missing Values**: Replaces missing values with column means.\r\n",
    "- **Train-Test Split**: Splits data into training (70%) and test (30%) sets.\r\n",
    "\r\n",
    "### Model Training\r\n",
    "- **Scaling Features**: Standardizes the data using `StandardScaler` to improve model performance.\r\n",
    "- **Logistic Regression**: Trains a logistic regression model (`LogisticRegression`) to predict elbow injury risk.\r\n",
    "- **Save Model**: Saves the trained model and scaler to `.pkl` files for future use.\r\n",
    "\r\n",
    "### Risk Calculation\r\n",
    "- **Reload Model**: Loads the saved model and scaler to ensure the app uses a trained model.\r\n",
    "- **Prediction**: Predicts the probability of injury based on user inputs scaled by the saved scaler.\r\n",
    "\r\n",
    "### Dash App Layout\r\n",
    "- **Input Fields**: Includes numeric inputs for variables like:\r\n",
    "  - Fastball spin rate\r\n",
    "  - Offspeed break\r\n",
    "  - Arm angle, etc.\r\n",
    "  - Input ranges are displayed for user guidance.\r\n",
    "- **Calculate Button**: Triggers the injury risk calculation.\r\n",
    "\r\n",
    "### Callback Function\r\n",
    "- **User Inputs**: Takes user-provided values for the features.\r\n",
    "- **Feature Scaling**: Scales the input values using the trained scaler.\r\n",
    "- **Injury Risk Prediction**: Calculates injury risk using the logistic regression model.\r\n",
    "- **Output**: Displays the predicted injury risk as a percentage.\r\n",
    "\r\n",
    "### Deployment\r\n",
    "- **Run Server**: Launches the app locally with `app.run_server(debug=True)` for testing.\r\n",
    "- **Interactive Visualizations**: Provides a user-friendly interface to explore injury risks dynamically.\r\n"
   ]
  },
  {
   "cell_type": "code",
   "execution_count": 20,
   "id": "023e84bd-d27c-4a6b-bdda-2035232ad003",
   "metadata": {},
   "outputs": [
    {
     "name": "stdout",
     "output_type": "stream",
     "text": [
      "Model and scaler saved successfully.\n"
     ]
    }
   ],
   "source": [
    "import pandas as pd\n",
    "import numpy as np\n",
    "from sklearn.model_selection import train_test_split\n",
    "from sklearn.preprocessing import StandardScaler\n",
    "from sklearn.linear_model import LogisticRegression\n",
    "import pickle\n",
    "\n",
    "file_path = r\"C:\\Users\\lukeh\\Downloads\\refined_data.csv\"\n",
    "data = pd.read_csv(file_path)\n",
    "\n",
    "features = [\n",
    "    'player_age', 'p_game', 'fastball_avg_speed', 'breaking_avg_speed',\n",
    "    'pitch_count', 'arm_angle', 'offspeed_avg_speed'\n",
    "]\n",
    "X = data[features]\n",
    "y = data['elbow?']  \n",
    "\n",
    "X = X.fillna(X.mean())\n",
    "\n",
    "X_train, X_test, y_train, y_test = train_test_split(X, y, test_size=0.3, random_state=42)\n",
    "\n",
    "scaler = StandardScaler()\n",
    "X_train_scaled = scaler.fit_transform(X_train)\n",
    "X_test_scaled = scaler.transform(X_test)\n",
    "\n",
    "log_reg = LogisticRegression(max_iter=500)\n",
    "log_reg.fit(X_train_scaled, y_train)\n",
    "\n",
    "with open(\"logistic_model.pkl\", \"wb\") as f:\n",
    "    pickle.dump(log_reg, f)\n",
    "\n",
    "with open(\"scaler.pkl\", \"wb\") as f:\n",
    "    pickle.dump(scaler, f)\n",
    "\n",
    "print(\"Model and scaler saved successfully.\")\n"
   ]
  },
  {
   "cell_type": "code",
   "execution_count": 22,
   "id": "d9f0d8f5-8a01-48a2-ba5e-9f34f08a452c",
   "metadata": {},
   "outputs": [],
   "source": [
    "with open(\"logistic_model.pkl\", \"rb\") as f:\n",
    "    model = pickle.load(f)\n",
    "\n",
    "with open(\"scaler.pkl\", \"rb\") as f:\n",
    "    scaler = pickle.load(f)\n"
   ]
  },
  {
   "cell_type": "code",
   "execution_count": 34,
   "id": "f4a9e96b-b6d2-4df9-a48d-ebe0b053dabc",
   "metadata": {},
   "outputs": [
    {
     "name": "stdout",
     "output_type": "stream",
     "text": [
      "Model and scaler saved successfully.\n",
      "Test Prediction: Injury Risk = 3.88%\n"
     ]
    },
    {
     "name": "stderr",
     "output_type": "stream",
     "text": [
      "C:\\Users\\lukeh\\Downloads\\Anaconda3\\Lib\\site-packages\\sklearn\\base.py:493: UserWarning:\n",
      "\n",
      "X does not have valid feature names, but StandardScaler was fitted with feature names\n",
      "\n"
     ]
    }
   ],
   "source": [
    "import pandas as pd\n",
    "import numpy as np\n",
    "from sklearn.model_selection import train_test_split\n",
    "from sklearn.preprocessing import StandardScaler\n",
    "from sklearn.linear_model import LogisticRegression\n",
    "import pickle\n",
    "\n",
    "file_path = r\"C:\\Users\\lukeh\\Downloads\\refined_data.csv\"\n",
    "data = pd.read_csv(file_path)\n",
    "\n",
    "features = [\n",
    "    'p_formatted_ip', 'fastball_avg_spin', 'offspeed_avg_break', 'fastball_avg_break_z_induced',\n",
    "    'fastball_avg_speed', 'breaking_avg_speed', 'arm_angle', 'offspeed_avg_speed'\n",
    "]\n",
    "X = data[features]\n",
    "y = data['elbow?']  \n",
    "\n",
    "X = X.fillna(X.mean())\n",
    "\n",
    "X_train, X_test, y_train, y_test = train_test_split(X, y, test_size=0.3, random_state=42)\n",
    "\n",
    "scaler = StandardScaler()\n",
    "X_train_scaled = scaler.fit_transform(X_train)\n",
    "X_test_scaled = scaler.transform(X_test)\n",
    "\n",
    "log_reg = LogisticRegression(max_iter=500)\n",
    "log_reg.fit(X_train_scaled, y_train)\n",
    "\n",
    "with open(\"logistic_model.pkl\", \"wb\") as f:\n",
    "    pickle.dump(log_reg, f)\n",
    "\n",
    "with open(\"scaler.pkl\", \"wb\") as f:\n",
    "    pickle.dump(scaler, f)\n",
    "\n",
    "print(\"Model and scaler saved successfully.\")\n",
    "\n",
    "# Reload for verification\n",
    "with open(\"logistic_model.pkl\", \"rb\") as f:\n",
    "    model = pickle.load(f)\n",
    "\n",
    "with open(\"scaler.pkl\", \"rb\") as f:\n",
    "    scaler = pickle.load(f)\n",
    "\n",
    "dummy_input = np.array([[100, 2200, 12, 15, 95, 85, 50, 80]])\n",
    "dummy_input_scaled = scaler.transform(dummy_input)\n",
    "risk = model.predict_proba(dummy_input_scaled)[0][1] * 100\n",
    "\n",
    "print(f\"Test Prediction: Injury Risk = {risk:.2f}%\")\n"
   ]
  },
  {
   "cell_type": "code",
   "execution_count": 36,
   "id": "d1440a2f-faeb-4cca-8e6c-706f3db88291",
   "metadata": {},
   "outputs": [
    {
     "data": {
      "text/html": [
       "\n",
       "        <iframe\n",
       "            width=\"100%\"\n",
       "            height=\"650\"\n",
       "            src=\"http://127.0.0.1:8050/\"\n",
       "            frameborder=\"0\"\n",
       "            allowfullscreen\n",
       "            \n",
       "        ></iframe>\n",
       "        "
      ],
      "text/plain": [
       "<IPython.lib.display.IFrame at 0x1808d48f770>"
      ]
     },
     "metadata": {},
     "output_type": "display_data"
    }
   ],
   "source": [
    "import dash\n",
    "from dash import dcc, html, Input, Output\n",
    "import dash_bootstrap_components as dbc\n",
    "import numpy as np\n",
    "import pickle\n",
    "\n",
    "with open(\"logistic_model.pkl\", \"rb\") as f:\n",
    "    model = pickle.load(f)\n",
    "with open(\"scaler.pkl\", \"rb\") as f:\n",
    "    scaler = pickle.load(f)\n",
    "\n",
    "app = dash.Dash(__name__, external_stylesheets=[dbc.themes.BOOTSTRAP])\n",
    "\n",
    "input_ranges = {\n",
    "    \"p_formatted_ip\": \"0 - 300\",\n",
    "    \"fastball_avg_spin\": \"1500 - 3000 rpm\",\n",
    "    \"offspeed_avg_break\": \"0 - 20 inches\",\n",
    "    \"fastball_avg_break_z_induced\": \"0 - 30 inches\",\n",
    "    \"fastball_avg_speed\": \"80 - 105 mph\",\n",
    "    \"breaking_avg_speed\": \"70 - 95 mph\",\n",
    "    \"arm_angle\": \"30 - 90 degrees\",\n",
    "    \"offspeed_avg_speed\": \"60 - 85 mph\",\n",
    "}\n",
    "\n",
    "app.layout = dbc.Container([\n",
    "    dbc.Row([\n",
    "        dbc.Col(html.H1(\"Injury Risk Calculator\", className=\"text-center text-primary mb-4\"), width=12)\n",
    "    ]),\n",
    "    dbc.Row([\n",
    "        dbc.Col([\n",
    "            dbc.Label(f\"Formatted Innings Pitched (Range: {input_ranges['p_formatted_ip']})\"),\n",
    "            dbc.Input(id=\"p_formatted_ip\", type=\"number\", placeholder=\"Enter formatted innings pitched\", value=100),\n",
    "            dbc.Label(f\"Fastball Avg Spin Rate (Range: {input_ranges['fastball_avg_spin']})\"),\n",
    "            dbc.Input(id=\"fastball_avg_spin\", type=\"number\", placeholder=\"Enter fastball spin rate (rpm)\", value=2200),\n",
    "            dbc.Label(f\"Offspeed Avg Break (Range: {input_ranges['offspeed_avg_break']})\"),\n",
    "            dbc.Input(id=\"offspeed_avg_break\", type=\"number\", placeholder=\"Enter offspeed break (inches)\", value=12),\n",
    "            dbc.Label(f\"Fastball Avg Break Z-Induced (Range: {input_ranges['fastball_avg_break_z_induced']})\"),\n",
    "            dbc.Input(id=\"fastball_avg_break_z_induced\", type=\"number\", placeholder=\"Enter z-induced fastball break\", value=15),\n",
    "        ], width=6),\n",
    "        dbc.Col([\n",
    "            dbc.Label(f\"Fastball Avg Speed (Range: {input_ranges['fastball_avg_speed']})\"),\n",
    "            dbc.Input(id=\"fastball_avg_speed\", type=\"number\", placeholder=\"Enter fastball speed (mph)\", value=95),\n",
    "            dbc.Label(f\"Breaking Avg Speed (Range: {input_ranges['breaking_avg_speed']})\"),\n",
    "            dbc.Input(id=\"breaking_avg_speed\", type=\"number\", placeholder=\"Enter breaking speed (mph)\", value=85),\n",
    "            dbc.Label(f\"Arm Angle (Range: {input_ranges['arm_angle']})\"),\n",
    "            dbc.Input(id=\"arm_angle\", type=\"number\", placeholder=\"Enter arm angle (degrees)\", value=50),\n",
    "            dbc.Label(f\"Offspeed Avg Speed (Range: {input_ranges['offspeed_avg_speed']})\"),\n",
    "            dbc.Input(id=\"offspeed_avg_speed\", type=\"number\", placeholder=\"Enter offspeed speed (mph)\", value=80),\n",
    "            html.Br(),\n",
    "            dbc.Button(\"Calculate Risk\", id=\"calculate-btn\", color=\"primary\", className=\"mt-2\"),\n",
    "        ], width=6),\n",
    "    ]),\n",
    "    dbc.Row([\n",
    "        dbc.Col(html.H3(id=\"risk-output\", className=\"text-center mt-4\"))\n",
    "    ])\n",
    "])\n",
    "\n",
    "@app.callback(\n",
    "    Output(\"risk-output\", \"children\"),\n",
    "    Input(\"calculate-btn\", \"n_clicks\"),\n",
    "    [\n",
    "        Input(\"p_formatted_ip\", \"value\"),\n",
    "        Input(\"fastball_avg_spin\", \"value\"),\n",
    "        Input(\"offspeed_avg_break\", \"value\"),\n",
    "        Input(\"fastball_avg_break_z_induced\", \"value\"),\n",
    "        Input(\"fastball_avg_speed\", \"value\"),\n",
    "        Input(\"breaking_avg_speed\", \"value\"),\n",
    "        Input(\"arm_angle\", \"value\"),\n",
    "        Input(\"offspeed_avg_speed\", \"value\"),\n",
    "    ]\n",
    ")\n",
    "def calculate_risk(n_clicks, p_ip, spin, offspeed_break, break_z, fastball_speed, breaking_speed, arm_angle, offspeed_speed):\n",
    "    if n_clicks is None:\n",
    "        return \"Enter values and click Calculate Risk.\"\n",
    "    \n",
    "    features = np.array([[p_ip, spin, offspeed_break, break_z, fastball_speed, breaking_speed, arm_angle, offspeed_speed]])\n",
    "    \n",
    "    try:\n",
    "        features_scaled = scaler.transform(features)\n",
    "        risk = model.predict_proba(features_scaled)[0][1] * 100\n",
    "        return f\"Injury Risk: {risk:.2f}%\"\n",
    "    except Exception as e:\n",
    "        return f\"Error: {str(e)}\"\n",
    "\n",
    "if __name__ == \"__main__\":\n",
    "    app.run_server(debug=True)\n"
   ]
  }
 ],
 "metadata": {
  "kernelspec": {
   "display_name": "Python 3 (ipykernel)",
   "language": "python",
   "name": "python3"
  },
  "language_info": {
   "codemirror_mode": {
    "name": "ipython",
    "version": 3
   },
   "file_extension": ".py",
   "mimetype": "text/x-python",
   "name": "python",
   "nbconvert_exporter": "python",
   "pygments_lexer": "ipython3",
   "version": "3.12.3"
  }
 },
 "nbformat": 4,
 "nbformat_minor": 5
}
